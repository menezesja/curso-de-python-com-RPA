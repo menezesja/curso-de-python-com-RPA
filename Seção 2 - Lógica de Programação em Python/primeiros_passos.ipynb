{
 "cells": [
  {
   "cell_type": "code",
   "execution_count": 23,
   "metadata": {},
   "outputs": [
    {
     "name": "stdout",
     "output_type": "stream",
     "text": [
      "Script executado com sucesso!\n"
     ]
    }
   ],
   "source": [
    "#Este sinal serve para comentar um código para que o usuário saiba o que o código faz\n",
    "\"\"\"\n",
    "Usando 3 aspas podemos\n",
    "comentar várias linhas\n",
    "assim quando o código for executado o scrip pula estas linhas\n",
    "\"\"\"\n",
    "\n",
    "\n",
    "print(\"Script executado com sucesso!\")"
   ]
  },
  {
   "cell_type": "code",
   "execution_count": 24,
   "metadata": {},
   "outputs": [
    {
     "name": "stdout",
     "output_type": "stream",
     "text": [
      "Inteiro: 42\n",
      "Flutuante: 42.0\n",
      "Complexo: (3+4j)\n",
      "Texto: Olá, Mundo!\n",
      "Lista: [1, 2, 3, 3]\n",
      "Tupla: (1, 2, 3, 4, 5)\n",
      "Conjunto: {1, 2, 3}\n",
      "Dicionário: {'chave': 'valor'}\n",
      "Booleano: True\n",
      "NoneType (None): None\n"
     ]
    }
   ],
   "source": [
    "#PRINCIPAIS DE TIPOS DE VARIAVÉIS\n",
    "\n",
    "#Inteiros (int): Números inteiros, sem parte decimal.\n",
    "inteiro = 42\n",
    "print(\"Inteiro:\", inteiro)\n",
    "\n",
    "#Ponto Flutuante (float): Números reais, que têm uma parte decimal.\n",
    "flutuante = 42.0\n",
    "print(\"Flutuante:\", flutuante)\n",
    "\n",
    "#Complexos (complex): Números complexos, que têm uma parte real e uma parte imaginária.\n",
    "complexo = 3 + 4j\n",
    "print(\"Complexo:\", complexo)\n",
    "\n",
    "#Strings (str): Sequências de caracteres.\n",
    "texto = \"Olá, Mundo!\"\n",
    "print(\"Texto:\", texto)\n",
    "\n",
    "\"\"\"\n",
    "Mutável: Significa que o conteúdo do objeto pode ser alterado após a sua criação. As \n",
    "listas em Python são mutáveis, o que significa que você pode modificar seus elementos.\n",
    " \n",
    "Imutável: Significa que o conteúdo do objeto não pode ser alterado após a sua criação. As \n",
    "tuplas em Python são imutáveis, o que significa que, uma vez criada, você não pode modificar \n",
    "seus elementos.\n",
    "\"\"\"\n",
    "\n",
    "#Listas (list): Uma coleção ordenada e mutável.\n",
    "lista = [1, 2, 3, 3]\n",
    "print(\"Lista:\", lista)\n",
    "\n",
    "#Tuplas (tuple): Uma coleção ordenada e imutável.\n",
    "tupla = (1, 2, 3, 4, 5)\n",
    "print(\"Tupla:\", tupla)\n",
    "\n",
    "#Conjuntos (set): Uma coleção não ordenada de itens únicos.\n",
    "conjunto = {1, 2, 3, 3}\n",
    "print(\"Conjunto:\", conjunto)\n",
    "\n",
    "#Dicionários (dict): Uma coleção não ordenada de pares chave-valor.\n",
    "dicionario = {\"chave\": \"valor\"}\n",
    "print(\"Dicionário:\", dicionario)\n",
    "\n",
    "#Booleanos (bool): Valores verdadeiro ou falso.\n",
    "booleano = True\n",
    "print(\"Booleano:\", booleano)\n",
    "\n",
    "#NoneType (None): Um tipo especial que representa a ausência de valor.\n",
    "nenhum = None\n",
    "print(\"NoneType (None):\", nenhum)"
   ]
  },
  {
   "cell_type": "code",
   "execution_count": 25,
   "metadata": {},
   "outputs": [
    {
     "name": "stdout",
     "output_type": "stream",
     "text": [
      "Nome: Nicole\n",
      "Idade: 30\n",
      "Nome: Nicole , Idade: 30\n"
     ]
    }
   ],
   "source": [
    "#Variaveis\n",
    "\n",
    "idade = 30\n",
    "nome = \"Nicole\"\n",
    "\n",
    "print(\"Nome:\", nome)\n",
    "print(\"Idade:\", idade)\n",
    "print(\"Nome:\", nome, \", Idade:\", idade)"
   ]
  },
  {
   "cell_type": "code",
   "execution_count": 26,
   "metadata": {},
   "outputs": [
    {
     "name": "stdout",
     "output_type": "stream",
     "text": [
      "<class 'str'>\n",
      "<class 'int'>\n"
     ]
    }
   ],
   "source": [
    "#Podemos obter o tipo de uma variável usando a função type\n",
    "\n",
    "nome = str(\"Ana Paula\")\n",
    "idade = 31\n",
    "\n",
    "print(type(nome))\n",
    "print(type(idade))"
   ]
  },
  {
   "cell_type": "code",
   "execution_count": 27,
   "metadata": {},
   "outputs": [
    {
     "name": "stdout",
     "output_type": "stream",
     "text": [
      "Texto 1\n",
      "Texto 2\n",
      "Texto 3\n",
      "Texto 4\n"
     ]
    }
   ],
   "source": [
    "#Podemos também atribuir valores a várias variáveis em uma só linha\n",
    "var1, var2, var3, var4 = \"Texto 1\", \"Texto 2\", \"Texto 3\", \"Texto 4\"\n",
    "\n",
    "print(var1)\n",
    "print(var2)\n",
    "print(var3)\n",
    "print(var4)"
   ]
  },
  {
   "cell_type": "code",
   "execution_count": 28,
   "metadata": {},
   "outputs": [
    {
     "name": "stdout",
     "output_type": "stream",
     "text": [
      "Ana Paula\n",
      "Ana Paula\n",
      "Ana Paula\n",
      "Ana Paula\n"
     ]
    }
   ],
   "source": [
    "#Podemos atribuir o mesmo valor a várias variáveis em uma única linha\n",
    "\n",
    "var1 = var2 = var3 = var4 = \"Ana Paula\"\n",
    "\n",
    "print(var1)\n",
    "print(var2)\n",
    "print(var3)\n",
    "print(var4)"
   ]
  },
  {
   "cell_type": "code",
   "execution_count": 29,
   "metadata": {},
   "outputs": [
    {
     "name": "stdout",
     "output_type": "stream",
     "text": [
      "Texto 1\n",
      "Texto 2\n",
      "Texto 3\n",
      "Texto 4\n"
     ]
    }
   ],
   "source": [
    "#Se tiver uma coleção de valores em uma lista, podemos extrair em variáveis. Isso é chamado de descompactar\n",
    "\n",
    "exemplo = \"Texto 1\", \"Texto 2\", \"Texto 3\", \"Texto 4\"\n",
    "var1, var2, var3, var4 = exemplo\n",
    "\n",
    "print(var1)\n",
    "print(var2)\n",
    "print(var3)\n",
    "print(var4)"
   ]
  },
  {
   "cell_type": "code",
   "execution_count": 30,
   "metadata": {},
   "outputs": [
    {
     "name": "stdout",
     "output_type": "stream",
     "text": [
      "O nome dela é Ana Paula\n"
     ]
    }
   ],
   "source": [
    "#Para juntar textos e variáveis em Python usamos o caracter + ou ,\n",
    "\n",
    "nome = \"Ana Paula\"\n",
    "\n",
    "print(\"O nome dela é \" + nome)"
   ]
  },
  {
   "cell_type": "code",
   "execution_count": 31,
   "metadata": {},
   "outputs": [
    {
     "name": "stdout",
     "output_type": "stream",
     "text": [
      "DezCinco\n"
     ]
    }
   ],
   "source": [
    "numero1 = \"Dez\"\n",
    "numero2 = \"Cinco\"\n",
    "\n",
    "print(numero1 + numero2)"
   ]
  },
  {
   "cell_type": "code",
   "execution_count": 32,
   "metadata": {},
   "outputs": [
    {
     "name": "stdout",
     "output_type": "stream",
     "text": [
      "Nome completo: Thuane Alves\n"
     ]
    }
   ],
   "source": [
    "#Para juntar textos e variáveis em Python usamos o caracter + ou ,\n",
    "nome = \"Thuane\"\n",
    "sobrenome = \"Alves\"\n",
    "\n",
    "print(\"Nome completo: \" + nome + \" \" + sobrenome)"
   ]
  },
  {
   "cell_type": "code",
   "execution_count": 33,
   "metadata": {},
   "outputs": [
    {
     "name": "stdout",
     "output_type": "stream",
     "text": [
      "Resultado soma:  125.5\n"
     ]
    }
   ],
   "source": [
    "# Exercício de Variáveis em Python\n",
    "\n",
    "# 1. Declare uma variável chamada \"idade\" e atribua o valor 25 a ela.\n",
    "idade = 25\n",
    "\n",
    "# 2. Declare uma variável chamada \"nome\" e atribua o valor \"João\" a ela.\n",
    "nome = \"João\"\n",
    "\n",
    "# 3. Declare uma variável chamada \"saldo\" e atribua o valor 100.50 a ela.\n",
    "saldo = 100.50\n",
    "\n",
    "# 4. Crie uma variável chamada \"soma\" e atribua a ela a soma das variáveis \"idade\" e \"saldo\".\n",
    "soma = idade + saldo\n",
    "\n",
    "# 5. Imprima na tela o valor da variável \"soma\".\n",
    "print(\"Resultado soma: \", soma)"
   ]
  },
  {
   "cell_type": "code",
   "execution_count": 34,
   "metadata": {},
   "outputs": [
    {
     "name": "stdout",
     "output_type": "stream",
     "text": [
      "A média é: 7.57\n"
     ]
    }
   ],
   "source": [
    "# Exercício de Variáveis em Python\n",
    "\n",
    "# 1. Crie uma variável chamada \"nota1\" e atribua o valor 7.5 a ela.\n",
    "nota1 = 7.5\n",
    "\n",
    "# 2. Crie uma variável chamada \"nota2\" e atribua o valor 8.3 a ela.\n",
    "nota2 = 8.3\n",
    "\n",
    "# 3. Crie uma variável chamada \"nota3\" e atribua o valor 6.9 a ela.\n",
    "nota3 = 6.9\n",
    "\n",
    "# 4. Calcule a média das três notas e atribua o resultado a uma variável chamada \"media\".\n",
    "media = (nota1 + nota2 + nota3)/3\n",
    "\n",
    "# 5. Imprima na tela o valor da variável \"media\" formatado com duas casas decimais.\n",
    "print(\"A média é:\", format(media, \".2f\"))"
   ]
  },
  {
   "cell_type": "code",
   "execution_count": 35,
   "metadata": {},
   "outputs": [
    {
     "name": "stdout",
     "output_type": "stream",
     "text": [
      "\n",
      "O seu nome é: 2024\n"
     ]
    }
   ],
   "source": [
    "nome = input(\"Digite seu nome: \\n\")\n",
    "\n",
    "print(\"\\nO seu nome é: \" + nome)"
   ]
  },
  {
   "cell_type": "code",
   "execution_count": 37,
   "metadata": {},
   "outputs": [
    {
     "name": "stdout",
     "output_type": "stream",
     "text": [
      "\n",
      "Aluno: jade \n",
      "Média: 1.5\n"
     ]
    }
   ],
   "source": [
    "nome = input(\"Digite seu nome: \\n\")\n",
    "nota1 = float(input(\"Digite a nota 1: \"))\n",
    "nota2 = float(input(\"Digite a nota 2: \"))\n",
    "\n",
    "media = (nota1 + nota2) / 2\n",
    "\n",
    "print(\"\\nAluno:\", nome, \"\\nMédia:\", media)"
   ]
  },
  {
   "cell_type": "code",
   "execution_count": null,
   "metadata": {},
   "outputs": [
    {
     "name": "stdout",
     "output_type": "stream",
     "text": [
      "2 * 1 =  2\n",
      "2 * 2 =  4\n",
      "2 * 3 =  6\n",
      "2 * 4 =  8\n",
      "2 * 5 =  10\n",
      "2 * 6 =  12\n",
      "2 * 7 =  14\n",
      "2 * 8 =  16\n",
      "2 * 9 =  18\n",
      "2 * 10 =  20\n"
     ]
    }
   ],
   "source": [
    "\n",
    "\"\"\"\n",
    "Exercício: Tabuada Personalizada\n",
    "\n",
    "Escreva um programa que solicite ao usuário um número inteiro e exiba a tabuada desse número, do 1 ao 10.\n",
    "\n",
    "Entrada:\n",
    "\n",
    "    Um número inteiro n, representando o número do qual você deseja ver a tabuada.\n",
    "\n",
    "Saída:\n",
    "\n",
    "    O programa deve imprimir dez linhas, mostrando o resultado da multiplicação do \n",
    "    número digitado com os números de 1 a 10, no formato n * i = resultado, onde n é o número \n",
    "    digitado pelo usuário e i varia de 1 a 10.\n",
    "\n",
    "Exemplo de Entrada:\n",
    "\n",
    "A tabuada de qual número deseja ver 5\n",
    "\n",
    "\n",
    "Exemplo de Saída:\n",
    "\n",
    "5  * 1 =  5\n",
    "5  * 2 =  10\n",
    "5  * 3 =  15\n",
    "5  * 4 =  20\n",
    "5  * 5 =  25\n",
    "5  * 6 =  30\n",
    "5  * 7 =  35\n",
    "5  * 8 =  40\n",
    "5  * 9 =  45\n",
    "5  * 10 =  50\n",
    "\n",
    "\"\"\"\n",
    "\n",
    "numero = int(input(\"A tabuada de qual número deseja ver: \\n\"))\n",
    "\n",
    "print(numero, \"* 1 = \", numero * 1)\n",
    "print(numero, \"* 2 = \", numero * 2)\n",
    "print(numero, \"* 3 = \", numero * 3)\n",
    "print(numero, \"* 4 = \", numero * 4)\n",
    "print(numero, \"* 5 = \", numero * 5)\n",
    "print(numero, \"* 6 = \", numero * 6)\n",
    "print(numero, \"* 7 = \", numero * 7)\n",
    "print(numero, \"* 8 = \", numero * 8)\n",
    "print(numero, \"* 9 = \", numero * 9)\n",
    "print(numero, \"* 10 = \", numero * 10)"
   ]
  },
  {
   "cell_type": "code",
   "execution_count": 38,
   "metadata": {},
   "outputs": [
    {
     "name": "stdout",
     "output_type": "stream",
     "text": [
      "Sua idade é:  23\n"
     ]
    }
   ],
   "source": [
    "\"\"\"\n",
    "\n",
    "Exercício\n",
    "\n",
    "Crie um algoritmo que solicite o ano de nascimento do usuário e \n",
    "com base no ano corrente imprima a idade\n",
    "\n",
    "\"\"\"\n",
    "\n",
    "ano_atual = int(input(\"Digite o ano atual: \"))\n",
    "ano_nascimento = int(input(\"Digite o ano do seu nascimento: \"))\n",
    "\n",
    "idade = ano_atual - ano_nascimento\n",
    "\n",
    "print(\"Sua idade é: \", idade)"
   ]
  }
 ],
 "metadata": {
  "kernelspec": {
   "display_name": "Python 3",
   "language": "python",
   "name": "python3"
  },
  "language_info": {
   "codemirror_mode": {
    "name": "ipython",
    "version": 3
   },
   "file_extension": ".py",
   "mimetype": "text/x-python",
   "name": "python",
   "nbconvert_exporter": "python",
   "pygments_lexer": "ipython3",
   "version": "3.12.1"
  }
 },
 "nbformat": 4,
 "nbformat_minor": 2
}
