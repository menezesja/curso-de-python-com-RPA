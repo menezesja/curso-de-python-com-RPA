{
 "cells": [
  {
   "cell_type": "code",
   "execution_count": 1,
   "metadata": {},
   "outputs": [
    {
     "name": "stdout",
     "output_type": "stream",
     "text": [
      "Script executado com sucesso!\n"
     ]
    }
   ],
   "source": [
    "#Este sinal serve para comentar um código para que o usuário saiba o que o código faz\n",
    "\"\"\"\n",
    "Usando 3 aspas podemos\n",
    "comentar várias linhas\n",
    "assim quando o código for executado o scrip pula estas linhas\n",
    "\"\"\"\n",
    "\n",
    "\n",
    "print(\"Script executado com sucesso!\")"
   ]
  },
  {
   "cell_type": "code",
   "execution_count": 7,
   "metadata": {},
   "outputs": [
    {
     "name": "stdout",
     "output_type": "stream",
     "text": [
      "Inteiro: 42\n",
      "Flutuante: 42.0\n",
      "Complexo: (3+4j)\n",
      "Texto: Olá, Mundo!\n",
      "Lista: [1, 2, 3, 3]\n",
      "Tupla: (1, 2, 3, 4, 5)\n",
      "Conjunto: {1, 2, 3}\n",
      "Dicionário: {'chave': 'valor'}\n",
      "Booleano: True\n",
      "NoneType (None): None\n"
     ]
    }
   ],
   "source": [
    "#PRINCIPAIS DE TIPOS DE VARIAVÉIS\n",
    "\n",
    "#Inteiros (int): Números inteiros, sem parte decimal.\n",
    "inteiro = 42\n",
    "print(\"Inteiro:\", inteiro)\n",
    "\n",
    "#Ponto Flutuante (float): Números reais, que têm uma parte decimal.\n",
    "flutuante = 42.0\n",
    "print(\"Flutuante:\", flutuante)\n",
    "\n",
    "#Complexos (complex): Números complexos, que têm uma parte real e uma parte imaginária.\n",
    "complexo = 3 + 4j\n",
    "print(\"Complexo:\", complexo)\n",
    "\n",
    "#Strings (str): Sequências de caracteres.\n",
    "texto = \"Olá, Mundo!\"\n",
    "print(\"Texto:\", texto)\n",
    "\n",
    "\"\"\"\n",
    "Mutável: Significa que o conteúdo do objeto pode ser alterado após a sua criação. As \n",
    "listas em Python são mutáveis, o que significa que você pode modificar seus elementos.\n",
    " \n",
    "Imutável: Significa que o conteúdo do objeto não pode ser alterado após a sua criação. As \n",
    "tuplas em Python são imutáveis, o que significa que, uma vez criada, você não pode modificar \n",
    "seus elementos.\n",
    "\"\"\"\n",
    "\n",
    "#Listas (list): Uma coleção ordenada e mutável.\n",
    "lista = [1, 2, 3, 3]\n",
    "print(\"Lista:\", lista)\n",
    "\n",
    "#Tuplas (tuple): Uma coleção ordenada e imutável.\n",
    "tupla = (1, 2, 3, 4, 5)\n",
    "print(\"Tupla:\", tupla)\n",
    "\n",
    "#Conjuntos (set): Uma coleção não ordenada de itens únicos.\n",
    "conjunto = {1, 2, 3, 3}\n",
    "print(\"Conjunto:\", conjunto)\n",
    "\n",
    "#Dicionários (dict): Uma coleção não ordenada de pares chave-valor.\n",
    "dicionario = {\"chave\": \"valor\"}\n",
    "print(\"Dicionário:\", dicionario)\n",
    "\n",
    "#Booleanos (bool): Valores verdadeiro ou falso.\n",
    "booleano = True\n",
    "print(\"Booleano:\", booleano)\n",
    "\n",
    "#NoneType (None): Um tipo especial que representa a ausência de valor.\n",
    "nenhum = None\n",
    "print(\"NoneType (None):\", nenhum)"
   ]
  },
  {
   "cell_type": "code",
   "execution_count": 8,
   "metadata": {},
   "outputs": [
    {
     "name": "stdout",
     "output_type": "stream",
     "text": [
      "Nome: Nicole\n",
      "Idade: 30\n",
      "Nome: Nicole , Idade: 30\n"
     ]
    }
   ],
   "source": [
    "#Variaveis\n",
    "\n",
    "idade = 30\n",
    "nome = \"Nicole\"\n",
    "\n",
    "print(\"Nome:\", nome)\n",
    "print(\"Idade:\", idade)\n",
    "print(\"Nome:\", nome, \", Idade:\", idade)"
   ]
  },
  {
   "cell_type": "code",
   "execution_count": 9,
   "metadata": {},
   "outputs": [
    {
     "name": "stdout",
     "output_type": "stream",
     "text": [
      "<class 'str'>\n",
      "<class 'int'>\n"
     ]
    }
   ],
   "source": [
    "#Podemos obter o tipo de uma variável usando a função type\n",
    "\n",
    "nome = str(\"Ana Paula\")\n",
    "idade = 31\n",
    "\n",
    "print(type(nome))\n",
    "print(type(idade))"
   ]
  }
 ],
 "metadata": {
  "kernelspec": {
   "display_name": "Python 3",
   "language": "python",
   "name": "python3"
  },
  "language_info": {
   "codemirror_mode": {
    "name": "ipython",
    "version": 3
   },
   "file_extension": ".py",
   "mimetype": "text/x-python",
   "name": "python",
   "nbconvert_exporter": "python",
   "pygments_lexer": "ipython3",
   "version": "3.12.1"
  }
 },
 "nbformat": 4,
 "nbformat_minor": 2
}
