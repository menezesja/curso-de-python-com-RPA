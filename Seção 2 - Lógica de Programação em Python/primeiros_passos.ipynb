{
 "cells": [
  {
   "cell_type": "code",
   "execution_count": null,
   "metadata": {},
   "outputs": [],
   "source": [
    "#Este sinal serve para comentar um código para que o usuário saiba o que o código faz\n",
    "\"\"\"\n",
    "Usando 3 aspas podemos\n",
    "comentar várias linhas\n",
    "assim quando o código for executado o scrip pula estas linhas\n",
    "\"\"\"\n",
    "\n",
    "\n",
    "print(\"Script executado com sucesso!\")"
   ]
  }
 ],
 "metadata": {
  "language_info": {
   "name": "python"
  }
 },
 "nbformat": 4,
 "nbformat_minor": 2
}
